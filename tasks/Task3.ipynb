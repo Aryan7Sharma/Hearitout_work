{
 "cells": [
  {
   "attachments": {
    "download.png": {
     "image/png": "[encoded data removed]"
    }
   },
   "cell_type": "markdown",
   "id": "afe0df86",
   "metadata": {},
   "source": [
    "![download.png](attachment:download.png)"
   ]
  },
  {
   "cell_type": "markdown",
   "id": "fe6913f8",
   "metadata": {},
   "source": [
    "### 3) Assignment:\n",
    "\n",
    "  * A company named Square Hub is selling 2 variants of its product, Product A and Product B, in a chain XYZ which has 479 stores, PAN India. The prices for these\n",
    "**products are:**\n",
    "●Product A: ₹599\n",
    "●Product B: ₹799\n",
    "\n",
    "\n",
    "    * To drive sales within stores, Square Hub declared a quarterly incentive plan for the Store Staff, Store Manager, Area Manager and General Manager.\n",
    "    * They all will earn incentive for each sale based on the following plan:\n",
    "    \n",
    "    \n",
    "    \n",
    "    Note:\n",
    "●   Average Sale Per Store refers to the average number of units sold by the stores under each Area Manager/General Manager. For example, if a General Manager has 50 stores under them and the stores have sold 10,000 units combined, the average sale per store is 200 units.\n",
    "\n",
    "●   % Product B Contribution refers to the percentage contribution of Product B\n",
    "in the total sales. For example, if a store had total sales of ₹1,00,000 out of which ₹65,000 was from Product A and ₹35,000 was from Product B, the percentage contribution of Product B is 35%.\n",
    "\n",
    "\n",
    "**For the assignment, calculate the following:**\n",
    "\n",
    "* a. Total incentive payout for:\n",
    "○ Each General Manager,\n",
    "○ Each Area Manager and\n",
    "○ Store Managers of the top 10 stores according to the total sales.\n",
    "\n",
    "\n",
    "* b. Percentage of revenue that was incentives."
   ]
  },
  {
   "cell_type": "markdown",
   "id": "ec4825a7",
   "metadata": {},
   "source": [
    "## Assignment3\n",
    "\n",
    "### Task1\n",
    "\n",
    "**calculate the following:**\n",
    "\n",
    "    a. Total incentive payout for: ○ Each General Manager, ○ Each Area Manager and ○ Store Managers of the top 10 stores according to the total sales"
   ]
  },
  {
   "cell_type": "code",
   "execution_count": 1,
   "id": "01568380",
   "metadata": {},
   "outputs": [],
   "source": [
    "import pandas as pd"
   ]
  },
  {
   "cell_type": "code",
   "execution_count": 15,
   "id": "29068ea0",
   "metadata": {},
   "outputs": [],
   "source": [
    "df = pd.read_excel('Square Hub Data.xlsx',sheet_name = ['Master Data', 'Sales Data'])"
   ]
  },
  {
   "cell_type": "code",
   "execution_count": 19,
   "id": "c9a882c7",
   "metadata": {},
   "outputs": [],
   "source": [
    "master_df = df.get('Master Data')\n",
    "sales_df = df.get('Sales Data')"
   ]
  },
  {
   "cell_type": "code",
   "execution_count": 20,
   "id": "488b790d",
   "metadata": {},
   "outputs": [
    {
     "data": {
      "text/html": [
       "<div>\n",
       "<style scoped>\n",
       "    .dataframe tbody tr th:only-of-type {\n",
       "        vertical-align: middle;\n",
       "    }\n",
       "\n",
       "    .dataframe tbody tr th {\n",
       "        vertical-align: top;\n",
       "    }\n",
       "\n",
       "    .dataframe thead th {\n",
       "        text-align: right;\n",
       "    }\n",
       "</style>\n",
       "<table border=\"1\" class=\"dataframe\">\n",
       "  <thead>\n",
       "    <tr style=\"text-align: right;\">\n",
       "      <th></th>\n",
       "      <th>Store</th>\n",
       "      <th>Region</th>\n",
       "      <th>General Manager</th>\n",
       "      <th>Area Manager</th>\n",
       "      <th>City</th>\n",
       "      <th>State</th>\n",
       "      <th>Store Name</th>\n",
       "    </tr>\n",
       "  </thead>\n",
       "  <tbody>\n",
       "    <tr>\n",
       "      <th>0</th>\n",
       "      <td>8842.0</td>\n",
       "      <td>Central</td>\n",
       "      <td>Sanjeev</td>\n",
       "      <td>Tapan</td>\n",
       "      <td>Bilaspur</td>\n",
       "      <td>Chattisgarh</td>\n",
       "      <td>City Mall Bilaspur</td>\n",
       "    </tr>\n",
       "    <tr>\n",
       "      <th>1</th>\n",
       "      <td>8682.0</td>\n",
       "      <td>Central</td>\n",
       "      <td>Sanjeev</td>\n",
       "      <td>Tapan</td>\n",
       "      <td>RAIPUR</td>\n",
       "      <td>Chattisgarh</td>\n",
       "      <td>City Center Raipur</td>\n",
       "    </tr>\n",
       "    <tr>\n",
       "      <th>2</th>\n",
       "      <td>8681.0</td>\n",
       "      <td>Central</td>\n",
       "      <td>Sanjeev</td>\n",
       "      <td>Tapan</td>\n",
       "      <td>RAIPUR</td>\n",
       "      <td>Chattisgarh</td>\n",
       "      <td>Magneto Mall Raipur</td>\n",
       "    </tr>\n",
       "    <tr>\n",
       "      <th>3</th>\n",
       "      <td>8726.0</td>\n",
       "      <td>Central</td>\n",
       "      <td>Sanjeev</td>\n",
       "      <td>Tapan</td>\n",
       "      <td>DURG-BHILAINAGAR</td>\n",
       "      <td>Chattisgarh</td>\n",
       "      <td>Treas Isl Bhilai MP</td>\n",
       "    </tr>\n",
       "    <tr>\n",
       "      <th>4</th>\n",
       "      <td>TI73</td>\n",
       "      <td>Central</td>\n",
       "      <td>Sanjeev</td>\n",
       "      <td>Tapan</td>\n",
       "      <td>DURG-BHILAINAGAR</td>\n",
       "      <td>Chattisgarh</td>\n",
       "      <td>Laxmi Heights Bhilai</td>\n",
       "    </tr>\n",
       "    <tr>\n",
       "      <th>...</th>\n",
       "      <td>...</td>\n",
       "      <td>...</td>\n",
       "      <td>...</td>\n",
       "      <td>...</td>\n",
       "      <td>...</td>\n",
       "      <td>...</td>\n",
       "      <td>...</td>\n",
       "    </tr>\n",
       "    <tr>\n",
       "      <th>474</th>\n",
       "      <td>TUC5</td>\n",
       "      <td>South 2</td>\n",
       "      <td>Krishna</td>\n",
       "      <td>Seshasudhir</td>\n",
       "      <td>HYDERABAD</td>\n",
       "      <td>Andhra Pradesh</td>\n",
       "      <td>Digi, nagole circle</td>\n",
       "    </tr>\n",
       "    <tr>\n",
       "      <th>475</th>\n",
       "      <td>TNP5</td>\n",
       "      <td>West</td>\n",
       "      <td>Rajesh</td>\n",
       "      <td>Deepak</td>\n",
       "      <td>Pune</td>\n",
       "      <td>Maharashtra</td>\n",
       "      <td>Digi, Wakad</td>\n",
       "    </tr>\n",
       "    <tr>\n",
       "      <th>476</th>\n",
       "      <td>TSE3</td>\n",
       "      <td>East</td>\n",
       "      <td>Rajib</td>\n",
       "      <td>Nabangkur</td>\n",
       "      <td>Kolkata</td>\n",
       "      <td>NaN</td>\n",
       "      <td>Digi, Jadavpur82</td>\n",
       "    </tr>\n",
       "    <tr>\n",
       "      <th>477</th>\n",
       "      <td>TWXI</td>\n",
       "      <td>West</td>\n",
       "      <td>Rajesh</td>\n",
       "      <td>Rajesh</td>\n",
       "      <td>Mumbai</td>\n",
       "      <td>NaN</td>\n",
       "      <td>Digi, Capital Mall</td>\n",
       "    </tr>\n",
       "    <tr>\n",
       "      <th>478</th>\n",
       "      <td>TSE1</td>\n",
       "      <td>West</td>\n",
       "      <td>Rajesh</td>\n",
       "      <td>Prakash</td>\n",
       "      <td>Pune</td>\n",
       "      <td>NaN</td>\n",
       "      <td>Digi, BB KOTHRUD</td>\n",
       "    </tr>\n",
       "  </tbody>\n",
       "</table>\n",
       "<p>479 rows × 7 columns</p>\n",
       "</div>"
      ],
      "text/plain": [
       "      Store   Region General Manager Area Manager              City  \\\n",
       "0    8842.0  Central         Sanjeev        Tapan          Bilaspur   \n",
       "1    8682.0  Central         Sanjeev        Tapan            RAIPUR   \n",
       "2    8681.0  Central         Sanjeev        Tapan            RAIPUR   \n",
       "3    8726.0  Central         Sanjeev        Tapan  DURG-BHILAINAGAR   \n",
       "4      TI73  Central         Sanjeev        Tapan  DURG-BHILAINAGAR   \n",
       "..      ...      ...             ...          ...               ...   \n",
       "474    TUC5  South 2         Krishna  Seshasudhir         HYDERABAD   \n",
       "475    TNP5    West           Rajesh       Deepak              Pune   \n",
       "476    TSE3    East            Rajib    Nabangkur           Kolkata   \n",
       "477    TWXI    West           Rajesh       Rajesh            Mumbai   \n",
       "478    TSE1    West           Rajesh      Prakash              Pune   \n",
       "\n",
       "              State            Store Name  \n",
       "0       Chattisgarh    City Mall Bilaspur  \n",
       "1       Chattisgarh    City Center Raipur  \n",
       "2       Chattisgarh   Magneto Mall Raipur  \n",
       "3       Chattisgarh   Treas Isl Bhilai MP  \n",
       "4       Chattisgarh  Laxmi Heights Bhilai  \n",
       "..              ...                   ...  \n",
       "474  Andhra Pradesh   Digi, nagole circle  \n",
       "475     Maharashtra           Digi, Wakad  \n",
       "476             NaN      Digi, Jadavpur82  \n",
       "477             NaN    Digi, Capital Mall  \n",
       "478             NaN      Digi, BB KOTHRUD  \n",
       "\n",
       "[479 rows x 7 columns]"
      ]
     },
     "execution_count": 20,
     "metadata": {},
     "output_type": "execute_result"
    }
   ],
   "source": [
    "master_df"
   ]
  },
  {
   "cell_type": "code",
   "execution_count": 21,
   "id": "d1c20a9e",
   "metadata": {},
   "outputs": [
    {
     "data": {
      "text/html": [
       "<div>\n",
       "<style scoped>\n",
       "    .dataframe tbody tr th:only-of-type {\n",
       "        vertical-align: middle;\n",
       "    }\n",
       "\n",
       "    .dataframe tbody tr th {\n",
       "        vertical-align: top;\n",
       "    }\n",
       "\n",
       "    .dataframe thead th {\n",
       "        text-align: right;\n",
       "    }\n",
       "</style>\n",
       "<table border=\"1\" class=\"dataframe\">\n",
       "  <thead>\n",
       "    <tr style=\"text-align: right;\">\n",
       "      <th></th>\n",
       "      <th>Sales Volume</th>\n",
       "      <th>Store Code</th>\n",
       "      <th>Product Name</th>\n",
       "      <th>Date</th>\n",
       "    </tr>\n",
       "  </thead>\n",
       "  <tbody>\n",
       "    <tr>\n",
       "      <th>0</th>\n",
       "      <td>1.0</td>\n",
       "      <td>6629.0</td>\n",
       "      <td>Product B</td>\n",
       "      <td>2020-10-01</td>\n",
       "    </tr>\n",
       "    <tr>\n",
       "      <th>1</th>\n",
       "      <td>1.0</td>\n",
       "      <td>8888.0</td>\n",
       "      <td>Product B</td>\n",
       "      <td>2020-10-01</td>\n",
       "    </tr>\n",
       "    <tr>\n",
       "      <th>2</th>\n",
       "      <td>1.0</td>\n",
       "      <td>8888.0</td>\n",
       "      <td>Product B</td>\n",
       "      <td>2020-10-01</td>\n",
       "    </tr>\n",
       "    <tr>\n",
       "      <th>3</th>\n",
       "      <td>1.0</td>\n",
       "      <td>TCI7</td>\n",
       "      <td>Product B</td>\n",
       "      <td>2020-10-01</td>\n",
       "    </tr>\n",
       "    <tr>\n",
       "      <th>4</th>\n",
       "      <td>1.0</td>\n",
       "      <td>8937.0</td>\n",
       "      <td>Product B</td>\n",
       "      <td>2020-10-01</td>\n",
       "    </tr>\n",
       "    <tr>\n",
       "      <th>...</th>\n",
       "      <td>...</td>\n",
       "      <td>...</td>\n",
       "      <td>...</td>\n",
       "      <td>...</td>\n",
       "    </tr>\n",
       "    <tr>\n",
       "      <th>73504</th>\n",
       "      <td>1.0</td>\n",
       "      <td>8690.0</td>\n",
       "      <td>Product A</td>\n",
       "      <td>2020-10-31</td>\n",
       "    </tr>\n",
       "    <tr>\n",
       "      <th>73505</th>\n",
       "      <td>1.0</td>\n",
       "      <td>8690.0</td>\n",
       "      <td>Product A</td>\n",
       "      <td>2020-10-31</td>\n",
       "    </tr>\n",
       "    <tr>\n",
       "      <th>73506</th>\n",
       "      <td>1.0</td>\n",
       "      <td>8690.0</td>\n",
       "      <td>Product A</td>\n",
       "      <td>2020-10-31</td>\n",
       "    </tr>\n",
       "    <tr>\n",
       "      <th>73507</th>\n",
       "      <td>1.0</td>\n",
       "      <td>8690.0</td>\n",
       "      <td>Product A</td>\n",
       "      <td>2020-10-31</td>\n",
       "    </tr>\n",
       "    <tr>\n",
       "      <th>73508</th>\n",
       "      <td>-1.0</td>\n",
       "      <td>TM19</td>\n",
       "      <td>Product B</td>\n",
       "      <td>2020-10-31</td>\n",
       "    </tr>\n",
       "  </tbody>\n",
       "</table>\n",
       "<p>73509 rows × 4 columns</p>\n",
       "</div>"
      ],
      "text/plain": [
       "       Sales Volume Store Code Product Name      Date \n",
       "0               1.0     6629.0    Product B 2020-10-01\n",
       "1               1.0     8888.0    Product B 2020-10-01\n",
       "2               1.0     8888.0    Product B 2020-10-01\n",
       "3               1.0       TCI7    Product B 2020-10-01\n",
       "4               1.0     8937.0    Product B 2020-10-01\n",
       "...             ...        ...          ...        ...\n",
       "73504           1.0     8690.0    Product A 2020-10-31\n",
       "73505           1.0     8690.0    Product A 2020-10-31\n",
       "73506           1.0     8690.0    Product A 2020-10-31\n",
       "73507           1.0     8690.0    Product A 2020-10-31\n",
       "73508          -1.0       TM19    Product B 2020-10-31\n",
       "\n",
       "[73509 rows x 4 columns]"
      ]
     },
     "execution_count": 21,
     "metadata": {},
     "output_type": "execute_result"
    }
   ],
   "source": [
    "sales_df"
   ]
  },
  {
   "cell_type": "markdown",
   "id": "b73c80b1",
   "metadata": {},
   "source": [
    "#### a. Total incentive payout for: ○ Each General Manager, ○ Each Area Manager and ○ Store Managers of the top 10 stores according to the total sales."
   ]
  },
  {
   "cell_type": "code",
   "execution_count": 23,
   "id": "7b626ffd",
   "metadata": {},
   "outputs": [
    {
     "data": {
      "text/plain": [
       "array(['Sanjeev', 'Rajib', 'Manojkumar', 'Priya', 'Krishna', 'Pavithra',\n",
       "       'Rajesh'], dtype=object)"
      ]
     },
     "execution_count": 23,
     "metadata": {},
     "output_type": "execute_result"
    }
   ],
   "source": [
    "master_df['General Manager'].unique()"
   ]
  },
  {
   "cell_type": "code",
   "execution_count": 24,
   "id": "33899ab7",
   "metadata": {},
   "outputs": [],
   "source": [
    "# performing Inner join"
   ]
  },
  {
   "cell_type": "code",
   "execution_count": 26,
   "id": "a3a645ee",
   "metadata": {},
   "outputs": [],
   "source": [
    "master_sales = pd.merge(master_df,sales_df,how='inner',left_on=['Store'],right_on=['Store Code'])"
   ]
  },
  {
   "cell_type": "code",
   "execution_count": 27,
   "id": "427806bf",
   "metadata": {},
   "outputs": [
    {
     "data": {
      "text/html": [
       "<div>\n",
       "<style scoped>\n",
       "    .dataframe tbody tr th:only-of-type {\n",
       "        vertical-align: middle;\n",
       "    }\n",
       "\n",
       "    .dataframe tbody tr th {\n",
       "        vertical-align: top;\n",
       "    }\n",
       "\n",
       "    .dataframe thead th {\n",
       "        text-align: right;\n",
       "    }\n",
       "</style>\n",
       "<table border=\"1\" class=\"dataframe\">\n",
       "  <thead>\n",
       "    <tr style=\"text-align: right;\">\n",
       "      <th></th>\n",
       "      <th>Store</th>\n",
       "      <th>Region</th>\n",
       "      <th>General Manager</th>\n",
       "      <th>Area Manager</th>\n",
       "      <th>City</th>\n",
       "      <th>State</th>\n",
       "      <th>Store Name</th>\n",
       "      <th>Sales Volume</th>\n",
       "      <th>Store Code</th>\n",
       "      <th>Product Name</th>\n",
       "      <th>Date</th>\n",
       "    </tr>\n",
       "  </thead>\n",
       "  <tbody>\n",
       "    <tr>\n",
       "      <th>0</th>\n",
       "      <td>8842.0</td>\n",
       "      <td>Central</td>\n",
       "      <td>Sanjeev</td>\n",
       "      <td>Tapan</td>\n",
       "      <td>Bilaspur</td>\n",
       "      <td>Chattisgarh</td>\n",
       "      <td>City Mall Bilaspur</td>\n",
       "      <td>1.0</td>\n",
       "      <td>8842.0</td>\n",
       "      <td>Product A</td>\n",
       "      <td>2020-10-01</td>\n",
       "    </tr>\n",
       "    <tr>\n",
       "      <th>1</th>\n",
       "      <td>8842.0</td>\n",
       "      <td>Central</td>\n",
       "      <td>Sanjeev</td>\n",
       "      <td>Tapan</td>\n",
       "      <td>Bilaspur</td>\n",
       "      <td>Chattisgarh</td>\n",
       "      <td>City Mall Bilaspur</td>\n",
       "      <td>1.0</td>\n",
       "      <td>8842.0</td>\n",
       "      <td>Product A</td>\n",
       "      <td>2020-10-01</td>\n",
       "    </tr>\n",
       "    <tr>\n",
       "      <th>2</th>\n",
       "      <td>8842.0</td>\n",
       "      <td>Central</td>\n",
       "      <td>Sanjeev</td>\n",
       "      <td>Tapan</td>\n",
       "      <td>Bilaspur</td>\n",
       "      <td>Chattisgarh</td>\n",
       "      <td>City Mall Bilaspur</td>\n",
       "      <td>1.0</td>\n",
       "      <td>8842.0</td>\n",
       "      <td>Product B</td>\n",
       "      <td>2020-10-02</td>\n",
       "    </tr>\n",
       "    <tr>\n",
       "      <th>3</th>\n",
       "      <td>8842.0</td>\n",
       "      <td>Central</td>\n",
       "      <td>Sanjeev</td>\n",
       "      <td>Tapan</td>\n",
       "      <td>Bilaspur</td>\n",
       "      <td>Chattisgarh</td>\n",
       "      <td>City Mall Bilaspur</td>\n",
       "      <td>1.0</td>\n",
       "      <td>8842.0</td>\n",
       "      <td>Product A</td>\n",
       "      <td>2020-10-02</td>\n",
       "    </tr>\n",
       "    <tr>\n",
       "      <th>4</th>\n",
       "      <td>8842.0</td>\n",
       "      <td>Central</td>\n",
       "      <td>Sanjeev</td>\n",
       "      <td>Tapan</td>\n",
       "      <td>Bilaspur</td>\n",
       "      <td>Chattisgarh</td>\n",
       "      <td>City Mall Bilaspur</td>\n",
       "      <td>1.0</td>\n",
       "      <td>8842.0</td>\n",
       "      <td>Product A</td>\n",
       "      <td>2020-10-02</td>\n",
       "    </tr>\n",
       "    <tr>\n",
       "      <th>...</th>\n",
       "      <td>...</td>\n",
       "      <td>...</td>\n",
       "      <td>...</td>\n",
       "      <td>...</td>\n",
       "      <td>...</td>\n",
       "      <td>...</td>\n",
       "      <td>...</td>\n",
       "      <td>...</td>\n",
       "      <td>...</td>\n",
       "      <td>...</td>\n",
       "      <td>...</td>\n",
       "    </tr>\n",
       "    <tr>\n",
       "      <th>73372</th>\n",
       "      <td>TSE3</td>\n",
       "      <td>East</td>\n",
       "      <td>Rajib</td>\n",
       "      <td>Nabangkur</td>\n",
       "      <td>Kolkata</td>\n",
       "      <td>NaN</td>\n",
       "      <td>Digi, Jadavpur82</td>\n",
       "      <td>1.0</td>\n",
       "      <td>TSE3</td>\n",
       "      <td>Product A</td>\n",
       "      <td>2020-10-30</td>\n",
       "    </tr>\n",
       "    <tr>\n",
       "      <th>73373</th>\n",
       "      <td>TSE3</td>\n",
       "      <td>East</td>\n",
       "      <td>Rajib</td>\n",
       "      <td>Nabangkur</td>\n",
       "      <td>Kolkata</td>\n",
       "      <td>NaN</td>\n",
       "      <td>Digi, Jadavpur82</td>\n",
       "      <td>1.0</td>\n",
       "      <td>TSE3</td>\n",
       "      <td>Product B</td>\n",
       "      <td>2020-10-31</td>\n",
       "    </tr>\n",
       "    <tr>\n",
       "      <th>73374</th>\n",
       "      <td>TSE3</td>\n",
       "      <td>East</td>\n",
       "      <td>Rajib</td>\n",
       "      <td>Nabangkur</td>\n",
       "      <td>Kolkata</td>\n",
       "      <td>NaN</td>\n",
       "      <td>Digi, Jadavpur82</td>\n",
       "      <td>1.0</td>\n",
       "      <td>TSE3</td>\n",
       "      <td>Product B</td>\n",
       "      <td>2020-10-31</td>\n",
       "    </tr>\n",
       "    <tr>\n",
       "      <th>73375</th>\n",
       "      <td>TWXI</td>\n",
       "      <td>West</td>\n",
       "      <td>Rajesh</td>\n",
       "      <td>Rajesh</td>\n",
       "      <td>Mumbai</td>\n",
       "      <td>NaN</td>\n",
       "      <td>Digi, Capital Mall</td>\n",
       "      <td>1.0</td>\n",
       "      <td>TWXI</td>\n",
       "      <td>Product A</td>\n",
       "      <td>2020-10-30</td>\n",
       "    </tr>\n",
       "    <tr>\n",
       "      <th>73376</th>\n",
       "      <td>TSE1</td>\n",
       "      <td>West</td>\n",
       "      <td>Rajesh</td>\n",
       "      <td>Prakash</td>\n",
       "      <td>Pune</td>\n",
       "      <td>NaN</td>\n",
       "      <td>Digi, BB KOTHRUD</td>\n",
       "      <td>1.0</td>\n",
       "      <td>TSE1</td>\n",
       "      <td>Product A</td>\n",
       "      <td>2020-10-31</td>\n",
       "    </tr>\n",
       "  </tbody>\n",
       "</table>\n",
       "<p>73377 rows × 11 columns</p>\n",
       "</div>"
      ],
      "text/plain": [
       "        Store   Region General Manager Area Manager      City        State  \\\n",
       "0      8842.0  Central         Sanjeev        Tapan  Bilaspur  Chattisgarh   \n",
       "1      8842.0  Central         Sanjeev        Tapan  Bilaspur  Chattisgarh   \n",
       "2      8842.0  Central         Sanjeev        Tapan  Bilaspur  Chattisgarh   \n",
       "3      8842.0  Central         Sanjeev        Tapan  Bilaspur  Chattisgarh   \n",
       "4      8842.0  Central         Sanjeev        Tapan  Bilaspur  Chattisgarh   \n",
       "...       ...      ...             ...          ...       ...          ...   \n",
       "73372    TSE3    East            Rajib    Nabangkur   Kolkata          NaN   \n",
       "73373    TSE3    East            Rajib    Nabangkur   Kolkata          NaN   \n",
       "73374    TSE3    East            Rajib    Nabangkur   Kolkata          NaN   \n",
       "73375    TWXI    West           Rajesh       Rajesh    Mumbai          NaN   \n",
       "73376    TSE1    West           Rajesh      Prakash      Pune          NaN   \n",
       "\n",
       "               Store Name  Sales Volume Store Code Product Name      Date   \n",
       "0      City Mall Bilaspur           1.0     8842.0    Product A 2020-10-01  \n",
       "1      City Mall Bilaspur           1.0     8842.0    Product A 2020-10-01  \n",
       "2      City Mall Bilaspur           1.0     8842.0    Product B 2020-10-02  \n",
       "3      City Mall Bilaspur           1.0     8842.0    Product A 2020-10-02  \n",
       "4      City Mall Bilaspur           1.0     8842.0    Product A 2020-10-02  \n",
       "...                   ...           ...        ...          ...        ...  \n",
       "73372    Digi, Jadavpur82           1.0       TSE3    Product A 2020-10-30  \n",
       "73373    Digi, Jadavpur82           1.0       TSE3    Product B 2020-10-31  \n",
       "73374    Digi, Jadavpur82           1.0       TSE3    Product B 2020-10-31  \n",
       "73375  Digi, Capital Mall           1.0       TWXI    Product A 2020-10-30  \n",
       "73376    Digi, BB KOTHRUD           1.0       TSE1    Product A 2020-10-31  \n",
       "\n",
       "[73377 rows x 11 columns]"
      ]
     },
     "execution_count": 27,
     "metadata": {},
     "output_type": "execute_result"
    }
   ],
   "source": [
    "master_sales"
   ]
  },
  {
   "cell_type": "code",
   "execution_count": 152,
   "id": "1bcbd8fe",
   "metadata": {},
   "outputs": [],
   "source": [
    "Gernal_manager = master_df['General Manager'].unique()"
   ]
  },
  {
   "cell_type": "code",
   "execution_count": 153,
   "id": "bc10d2f0",
   "metadata": {},
   "outputs": [
    {
     "data": {
      "text/plain": [
       "array(['Sanjeev', 'Rajib', 'Manojkumar', 'Priya', 'Krishna', 'Pavithra',\n",
       "       'Rajesh'], dtype=object)"
      ]
     },
     "execution_count": 153,
     "metadata": {},
     "output_type": "execute_result"
    }
   ],
   "source": [
    "Gernal_manager"
   ]
  },
  {
   "cell_type": "markdown",
   "id": "f0df2f03",
   "metadata": {},
   "source": [
    "**Company have a 7 Gernal Manager who are resposibles Company all Stores all over India**"
   ]
  },
  {
   "cell_type": "code",
   "execution_count": 184,
   "id": "0992e167",
   "metadata": {},
   "outputs": [
    {
     "name": "stdout",
     "output_type": "stream",
     "text": [
      "(Sanjeev) Average Sales Per Store -- 118\n",
      "(Rajib) Average Sales Per Store -- 154\n",
      "(Manojkumar) Average Sales Per Store -- 152\n",
      "(Priya) Average Sales Per Store -- 176\n",
      "(Krishna) Average Sales Per Store -- 178\n",
      "(Pavithra) Average Sales Per Store -- 117\n",
      "(Rajesh) Average Sales Per Store -- 153\n"
     ]
    }
   ],
   "source": [
    "Incentive_GM  = []\n",
    "total_inc_gm = 0\n",
    "for i in Gernal_manager:\n",
    "    sales_volume =  master_sales[(master_sales['General Manager'] == i)]['Sales Volume'].sum()\n",
    "    total_stores =  master_sales[(master_sales['General Manager'] == i)]['Store Name'].nunique()\n",
    "    average_sales = int(sales_volume/total_stores)\n",
    "    print(f\"({i}) Average Sales Per Store -- {average_sales}\")\n",
    "    if average_sales>125 and average_sales<=150:\n",
    "        dicts = {i:10000}\n",
    "        total_inc_gm +=10000 \n",
    "    elif average_sales>150:\n",
    "        dicts = {i:20000}\n",
    "        total_inc_gm +=20000\n",
    "    else:\n",
    "        dicts = {i:0}\n",
    "    Incentive_GM.append(dicts)\n",
    "    \n"
   ]
  },
  {
   "cell_type": "code",
   "execution_count": 185,
   "id": "bad2250f",
   "metadata": {},
   "outputs": [
    {
     "data": {
      "text/plain": [
       "[{'Sanjeev': 0},\n",
       " {'Rajib': 20000},\n",
       " {'Manojkumar': 20000},\n",
       " {'Priya': 20000},\n",
       " {'Krishna': 20000},\n",
       " {'Pavithra': 0},\n",
       " {'Rajesh': 20000}]"
      ]
     },
     "execution_count": 185,
     "metadata": {},
     "output_type": "execute_result"
    }
   ],
   "source": [
    "Incentive_GM"
   ]
  },
  {
   "cell_type": "code",
   "execution_count": 186,
   "id": "553c839e",
   "metadata": {},
   "outputs": [
    {
     "name": "stdout",
     "output_type": "stream",
     "text": [
      "Total Incentive Payouts For Gernal Managers  =  100000\n"
     ]
    }
   ],
   "source": [
    "print(f\"Total Incentive Payouts For Gernal Managers  =  {total_inc_gm}\")"
   ]
  },
  {
   "cell_type": "code",
   "execution_count": null,
   "id": "2b412549",
   "metadata": {},
   "outputs": [],
   "source": []
  },
  {
   "cell_type": "markdown",
   "id": "251a0768",
   "metadata": {},
   "source": [
    "### Finding Incentive for Area Managers"
   ]
  },
  {
   "cell_type": "code",
   "execution_count": 157,
   "id": "1d81b81f",
   "metadata": {},
   "outputs": [
    {
     "data": {
      "text/plain": [
       "array(['Tapan', 'Saud', 'Maanvendra', 'Amit', 'Adil', 'Rachna',\n",
       "       'Nabangkur', 'Anirban', 'Bidrohi', 'Rishi', 'Biswajit', 'Kamlesh',\n",
       "       'Vipin', 'Rohit', 'Rajeev', 'Desh', 'Deepak', 'Sachin',\n",
       "       'Prashanth', 'Rajesh', 'Senthil', 'Sreejith', 'Rithesh', 'Vinay',\n",
       "       'Kalyan', 'Aiman', 'Suresh', 'Raju', 'Mujeeb', 'Seshasudhir',\n",
       "       'Sai', 'Raghavendra', 'Anil', 'Ramesh', 'Botheeswaran',\n",
       "       'Thennappan', 'Anandakumar', 'Ahsanul', 'Pankaj', 'Arijit',\n",
       "       'Sandip', 'Prakash', 'Nishant'], dtype=object)"
      ]
     },
     "execution_count": 157,
     "metadata": {},
     "output_type": "execute_result"
    }
   ],
   "source": [
    "Area_manager = master_df['Area Manager'].unique()\n",
    "Area_manager"
   ]
  },
  {
   "cell_type": "code",
   "execution_count": 187,
   "id": "a79d261e",
   "metadata": {},
   "outputs": [
    {
     "name": "stdout",
     "output_type": "stream",
     "text": [
      "Average Sales Per Store Under (Tapan) Area Manger  --  171\n",
      "Average Sales Per Store Under (Saud) Area Manger  --  118\n",
      "Average Sales Per Store Under (Maanvendra) Area Manger  --  116\n",
      "Average Sales Per Store Under (Amit) Area Manger  --  143\n",
      "Average Sales Per Store Under (Adil) Area Manger  --  66\n",
      "Average Sales Per Store Under (Rachna) Area Manger  --  177\n",
      "Average Sales Per Store Under (Nabangkur) Area Manger  --  150\n",
      "Average Sales Per Store Under (Anirban) Area Manger  --  270\n",
      "Average Sales Per Store Under (Bidrohi) Area Manger  --  200\n",
      "Average Sales Per Store Under (Rishi) Area Manger  --  156\n",
      "Average Sales Per Store Under (Biswajit) Area Manger  --  78\n",
      "Average Sales Per Store Under (Kamlesh) Area Manger  --  155\n",
      "Average Sales Per Store Under (Vipin) Area Manger  --  94\n",
      "Average Sales Per Store Under (Rohit) Area Manger  --  186\n",
      "Average Sales Per Store Under (Rajeev) Area Manger  --  119\n",
      "Average Sales Per Store Under (Desh) Area Manger  --  149\n",
      "Average Sales Per Store Under (Deepak) Area Manger  --  126\n",
      "Average Sales Per Store Under (Sachin) Area Manger  --  234\n",
      "Average Sales Per Store Under (Prashanth) Area Manger  --  191\n",
      "Average Sales Per Store Under (Rajesh) Area Manger  --  172\n",
      "Average Sales Per Store Under (Senthil) Area Manger  --  104\n",
      "Average Sales Per Store Under (Sreejith) Area Manger  --  89\n",
      "Average Sales Per Store Under (Rithesh) Area Manger  --  187\n",
      "Average Sales Per Store Under (Vinay) Area Manger  --  193\n",
      "Average Sales Per Store Under (Kalyan) Area Manger  --  140\n",
      "Average Sales Per Store Under (Aiman) Area Manger  --  232\n",
      "Average Sales Per Store Under (Suresh) Area Manger  --  209\n",
      "Average Sales Per Store Under (Raju) Area Manger  --  185\n",
      "Average Sales Per Store Under (Mujeeb) Area Manger  --  229\n",
      "Average Sales Per Store Under (Seshasudhir) Area Manger  --  146\n",
      "Average Sales Per Store Under (Sai) Area Manger  --  117\n",
      "Average Sales Per Store Under (Raghavendra) Area Manger  --  175\n",
      "Average Sales Per Store Under (Anil) Area Manger  --  158\n",
      "Average Sales Per Store Under (Ramesh) Area Manger  --  96\n",
      "Average Sales Per Store Under (Botheeswaran) Area Manger  --  130\n",
      "Average Sales Per Store Under (Thennappan) Area Manger  --  64\n",
      "Average Sales Per Store Under (Anandakumar) Area Manger  --  131\n",
      "Average Sales Per Store Under (Ahsanul) Area Manger  --  117\n",
      "Average Sales Per Store Under (Pankaj) Area Manger  --  153\n",
      "Average Sales Per Store Under (Arijit) Area Manger  --  200\n",
      "Average Sales Per Store Under (Sandip) Area Manger  --  232\n",
      "Average Sales Per Store Under (Prakash) Area Manger  --  107\n",
      "Average Sales Per Store Under (Nishant) Area Manger  --  123\n"
     ]
    }
   ],
   "source": [
    "Incentive_AM  = []\n",
    "total_inc_am = 0\n",
    "for i in Area_manager:\n",
    "    sales_volume =  master_sales[(master_sales['Area Manager'] == i)]['Sales Volume'].sum()\n",
    "    total_stores =  master_sales[(master_sales['Area Manager'] == i)]['Store Name'].nunique()\n",
    "    average_sales = int(sales_volume/total_stores)\n",
    "    print(f\"Average Sales Per Store Under ({i}) Area Manger  --  {average_sales}\")\n",
    "    if average_sales>100 and average_sales<=150:\n",
    "        dicts = {i:5000}\n",
    "        total_inc_am +=10000 \n",
    "    elif average_sales>150:\n",
    "        dicts = {i:10000}\n",
    "        total_inc_am +=20000\n",
    "    else:\n",
    "        dicts = {i:0}\n",
    "    Incentive_AM.append(dicts)\n",
    "    \n"
   ]
  },
  {
   "cell_type": "code",
   "execution_count": 188,
   "id": "9887843a",
   "metadata": {},
   "outputs": [
    {
     "data": {
      "text/plain": [
       "[{'Tapan': 10000},\n",
       " {'Saud': 5000},\n",
       " {'Maanvendra': 5000},\n",
       " {'Amit': 5000},\n",
       " {'Adil': 0},\n",
       " {'Rachna': 10000},\n",
       " {'Nabangkur': 5000},\n",
       " {'Anirban': 10000},\n",
       " {'Bidrohi': 10000},\n",
       " {'Rishi': 10000},\n",
       " {'Biswajit': 0},\n",
       " {'Kamlesh': 10000},\n",
       " {'Vipin': 0},\n",
       " {'Rohit': 10000},\n",
       " {'Rajeev': 5000},\n",
       " {'Desh': 5000},\n",
       " {'Deepak': 5000},\n",
       " {'Sachin': 10000},\n",
       " {'Prashanth': 10000},\n",
       " {'Rajesh': 10000},\n",
       " {'Senthil': 5000},\n",
       " {'Sreejith': 0},\n",
       " {'Rithesh': 10000},\n",
       " {'Vinay': 10000},\n",
       " {'Kalyan': 5000},\n",
       " {'Aiman': 10000},\n",
       " {'Suresh': 10000},\n",
       " {'Raju': 10000},\n",
       " {'Mujeeb': 10000},\n",
       " {'Seshasudhir': 5000},\n",
       " {'Sai': 5000},\n",
       " {'Raghavendra': 10000},\n",
       " {'Anil': 10000},\n",
       " {'Ramesh': 0},\n",
       " {'Botheeswaran': 5000},\n",
       " {'Thennappan': 0},\n",
       " {'Anandakumar': 5000},\n",
       " {'Ahsanul': 5000},\n",
       " {'Pankaj': 10000},\n",
       " {'Arijit': 10000},\n",
       " {'Sandip': 10000},\n",
       " {'Prakash': 5000},\n",
       " {'Nishant': 5000}]"
      ]
     },
     "execution_count": 188,
     "metadata": {},
     "output_type": "execute_result"
    }
   ],
   "source": [
    "Incentive_AM"
   ]
  },
  {
   "cell_type": "code",
   "execution_count": 190,
   "id": "e5ec0444",
   "metadata": {},
   "outputs": [
    {
     "name": "stdout",
     "output_type": "stream",
     "text": [
      "Total Incentive Payouts For Area Managers  =  580000\n"
     ]
    }
   ],
   "source": [
    "print(f\"Total Incentive Payouts For Area Managers  =  {total_inc_am}\")"
   ]
  },
  {
   "cell_type": "markdown",
   "id": "fc1c1b87",
   "metadata": {},
   "source": [
    "#### Conclusion:--\n",
    "**It reaches the limit of Total Incentive Capping for Area Managers.**"
   ]
  },
  {
   "cell_type": "code",
   "execution_count": null,
   "id": "e87bf2b4",
   "metadata": {},
   "outputs": [],
   "source": []
  },
  {
   "cell_type": "code",
   "execution_count": 161,
   "id": "3ea4ef7f",
   "metadata": {},
   "outputs": [],
   "source": [
    "stores = master_sales['Store Name'].unique()"
   ]
  },
  {
   "cell_type": "code",
   "execution_count": 162,
   "id": "bb25f557",
   "metadata": {},
   "outputs": [],
   "source": [
    "top10_stores = master_sales.groupby('Store Name')[['Sales Volume']].sum().sort_values(by = 'Sales Volume').tail(10)"
   ]
  },
  {
   "cell_type": "code",
   "execution_count": 163,
   "id": "04fe780b",
   "metadata": {},
   "outputs": [
    {
     "data": {
      "text/html": [
       "<div>\n",
       "<style scoped>\n",
       "    .dataframe tbody tr th:only-of-type {\n",
       "        vertical-align: middle;\n",
       "    }\n",
       "\n",
       "    .dataframe tbody tr th {\n",
       "        vertical-align: top;\n",
       "    }\n",
       "\n",
       "    .dataframe thead th {\n",
       "        text-align: right;\n",
       "    }\n",
       "</style>\n",
       "<table border=\"1\" class=\"dataframe\">\n",
       "  <thead>\n",
       "    <tr style=\"text-align: right;\">\n",
       "      <th></th>\n",
       "      <th>Sales Volume</th>\n",
       "    </tr>\n",
       "    <tr>\n",
       "      <th>Store Name</th>\n",
       "      <th></th>\n",
       "    </tr>\n",
       "  </thead>\n",
       "  <tbody>\n",
       "    <tr>\n",
       "      <th>Nacharam Hyderabad</th>\n",
       "      <td>439.0</td>\n",
       "    </tr>\n",
       "    <tr>\n",
       "      <th>Panjagutta Hyderabad</th>\n",
       "      <td>463.0</td>\n",
       "    </tr>\n",
       "    <tr>\n",
       "      <th>City Center Mangalor</th>\n",
       "      <td>477.0</td>\n",
       "    </tr>\n",
       "    <tr>\n",
       "      <th>ND Elite Bangalore</th>\n",
       "      <td>482.0</td>\n",
       "    </tr>\n",
       "    <tr>\n",
       "      <th>Avni Kolkata</th>\n",
       "      <td>483.0</td>\n",
       "    </tr>\n",
       "    <tr>\n",
       "      <th>Orion Park Mumbai</th>\n",
       "      <td>505.0</td>\n",
       "    </tr>\n",
       "    <tr>\n",
       "      <th>Diamond City Kolkata</th>\n",
       "      <td>510.0</td>\n",
       "    </tr>\n",
       "    <tr>\n",
       "      <th>Times Square Mumbai</th>\n",
       "      <td>568.0</td>\n",
       "    </tr>\n",
       "    <tr>\n",
       "      <th>TTMC Bangalore</th>\n",
       "      <td>603.0</td>\n",
       "    </tr>\n",
       "    <tr>\n",
       "      <th>Century Corbel Bnglr</th>\n",
       "      <td>632.0</td>\n",
       "    </tr>\n",
       "  </tbody>\n",
       "</table>\n",
       "</div>"
      ],
      "text/plain": [
       "                      Sales Volume\n",
       "Store Name                        \n",
       "Nacharam Hyderabad           439.0\n",
       "Panjagutta Hyderabad         463.0\n",
       "City Center Mangalor         477.0\n",
       "ND Elite Bangalore           482.0\n",
       "Avni Kolkata                 483.0\n",
       "Orion Park Mumbai            505.0\n",
       "Diamond City Kolkata         510.0\n",
       "Times Square Mumbai          568.0\n",
       "TTMC Bangalore               603.0\n",
       "Century Corbel Bnglr         632.0"
      ]
     },
     "execution_count": 163,
     "metadata": {},
     "output_type": "execute_result"
    }
   ],
   "source": [
    "top10_stores"
   ]
  },
  {
   "cell_type": "code",
   "execution_count": 164,
   "id": "3aaf03e1",
   "metadata": {},
   "outputs": [],
   "source": [
    "store_names = top10_stores.index"
   ]
  },
  {
   "cell_type": "code",
   "execution_count": 191,
   "id": "666db9e6",
   "metadata": {},
   "outputs": [
    {
     "name": "stdout",
     "output_type": "stream",
     "text": [
      "Total Sales by (Nacharam Hyderabad) Store Managr   =   439.0 '\n",
      "' Where Product A Volume = 303.0, and Product B Volume = 136.0 '\n",
      "'\n",
      "Total Sales by (Panjagutta Hyderabad) Store Managr   =   463.0 '\n",
      "' Where Product A Volume = 272.0, and Product B Volume = 191.0 '\n",
      "'\n",
      "Total Sales by (City Center Mangalor) Store Managr   =   477.0 '\n",
      "' Where Product A Volume = 298.0, and Product B Volume = 179.0 '\n",
      "'\n",
      "Total Sales by (ND Elite Bangalore) Store Managr   =   482.0 '\n",
      "' Where Product A Volume = 101.0, and Product B Volume = 381.0 '\n",
      "'\n",
      "Total Sales by (Avni Kolkata) Store Managr   =   483.0 '\n",
      "' Where Product A Volume = 300.0, and Product B Volume = 183.0 '\n",
      "'\n",
      "Total Sales by (Orion Park Mumbai) Store Managr   =   505.0 '\n",
      "' Where Product A Volume = 377.0, and Product B Volume = 128.0 '\n",
      "'\n",
      "Total Sales by (Diamond City Kolkata) Store Managr   =   510.0 '\n",
      "' Where Product A Volume = 204.0, and Product B Volume = 306.0 '\n",
      "'\n",
      "Total Sales by (Times Square Mumbai) Store Managr   =   568.0 '\n",
      "' Where Product A Volume = 334.0, and Product B Volume = 234.0 '\n",
      "'\n",
      "Total Sales by (TTMC Bangalore) Store Managr   =   603.0 '\n",
      "' Where Product A Volume = 323.0, and Product B Volume = 280.0 '\n",
      "'\n",
      "Total Sales by (Century Corbel Bnglr) Store Managr   =   632.0 '\n",
      "' Where Product A Volume = 323.0, and Product B Volume = 309.0 '\n",
      "'\n"
     ]
    }
   ],
   "source": [
    "Incentive_SM  = []\n",
    "total_inc_sm = 0\n",
    "for i in store_names:\n",
    "    productA_vol =  master_sales[(master_sales['Store Name'] == i) & (master_sales['Product Name'] == 'Product A')]['Sales Volume'].sum()\n",
    "    productB_vol =  master_sales[(master_sales['Store Name'] == i) & (master_sales['Product Name'] == 'Product B')]['Sales Volume'].sum()\n",
    "    average_sales = int(sales_volume/total_stores)\n",
    "    print(f\"Total Sales by ({i}) Store Managr   =   {productA_vol+productB_vol} '\\n' Where Product A Volume = {productA_vol}, and Product B Volume = {productB_vol} '\\n'\")\n",
    "    if (productB_vol//2)>productA_vol:\n",
    "        inc = (productB_vol//30)*1000\n",
    "        dicts = {f\"{i} Store Manager Incentive\":inc}\n",
    "        total_inc_sm +=inc \n",
    "    else:\n",
    "        inc = (productA_vol//30)*1100\n",
    "        dicts = {f\"{i} Store Manager Incentive\":inc}\n",
    "        total_inc_sm +=inc\n",
    "    Incentive_SM.append(dicts)\n",
    "    "
   ]
  },
  {
   "cell_type": "code",
   "execution_count": 192,
   "id": "0523d718",
   "metadata": {},
   "outputs": [
    {
     "data": {
      "text/plain": [
       "[{'Nacharam Hyderabad Store Manager Incentive': 11000.0},\n",
       " {'Panjagutta Hyderabad Store Manager Incentive': 9900.0},\n",
       " {'City Center Mangalor Store Manager Incentive': 9900.0},\n",
       " {'ND Elite Bangalore Store Manager Incentive': 12000.0},\n",
       " {'Avni Kolkata Store Manager Incentive': 11000.0},\n",
       " {'Orion Park Mumbai Store Manager Incentive': 13200.0},\n",
       " {'Diamond City Kolkata Store Manager Incentive': 6600.0},\n",
       " {'Times Square Mumbai Store Manager Incentive': 12100.0},\n",
       " {'TTMC Bangalore Store Manager Incentive': 11000.0},\n",
       " {'Century Corbel Bnglr Store Manager Incentive': 11000.0}]"
      ]
     },
     "execution_count": 192,
     "metadata": {},
     "output_type": "execute_result"
    }
   ],
   "source": [
    "Incentive_SM"
   ]
  },
  {
   "cell_type": "code",
   "execution_count": 193,
   "id": "348d06e2",
   "metadata": {},
   "outputs": [
    {
     "name": "stdout",
     "output_type": "stream",
     "text": [
      "Total Incentive Payouts For Top 10 Store Managers  =  107700.0\n"
     ]
    }
   ],
   "source": [
    "print(f\"Total Incentive Payouts For Top 10 Store Managers  =  {total_inc_sm}\")"
   ]
  },
  {
   "cell_type": "markdown",
   "id": "0c9f85dd",
   "metadata": {},
   "source": [
    "#### Conclusion:--\n",
    "**It also reaches the limit of Total Incentive Capping for Store Managers Which is 25,000.**\n",
    "\n",
    "\n",
    "**TTMC Banglore and Century Corbel Bnglr Stores gives the Max Sales**"
   ]
  },
  {
   "cell_type": "code",
   "execution_count": null,
   "id": "bffe4864",
   "metadata": {},
   "outputs": [],
   "source": []
  },
  {
   "cell_type": "markdown",
   "id": "280e0509",
   "metadata": {},
   "source": [
    "## Assignment3\n",
    "\n",
    "### Task2\n",
    "\n",
    "**calculate the following:**\n",
    "\n",
    "    Percentage of revenue that was incentives.    "
   ]
  },
  {
   "cell_type": "code",
   "execution_count": 194,
   "id": "7839728f",
   "metadata": {},
   "outputs": [],
   "source": [
    "# Total Revenue\n",
    "\n",
    "Revenue = (master_sales[master_sales['Product Name'] == 'Product A']['Sales Volume'].sum()*599) + (master_sales[master_sales['Product Name'] == 'Product B']['Sales Volume'].sum()*799)"
   ]
  },
  {
   "cell_type": "code",
   "execution_count": 197,
   "id": "45072f1a",
   "metadata": {},
   "outputs": [
    {
     "name": "stdout",
     "output_type": "stream",
     "text": [
      "Total Revenue from the Sales of Product A and B   =  49972628.0\n"
     ]
    }
   ],
   "source": [
    "print(f\"Total Revenue from the Sales of Product A and B   =  {Revenue}\")"
   ]
  },
  {
   "cell_type": "code",
   "execution_count": 198,
   "id": "b914121f",
   "metadata": {},
   "outputs": [],
   "source": [
    "total_inctive = total_inc_gm+total_inc_am+total_inc_sm"
   ]
  },
  {
   "cell_type": "code",
   "execution_count": 202,
   "id": "d6d825b6",
   "metadata": {},
   "outputs": [
    {
     "name": "stdout",
     "output_type": "stream",
     "text": [
      "Total Incentive in rupee distributed to General Manager, Area Manager, and Store Manager  =  787700.0\n"
     ]
    }
   ],
   "source": [
    "print(f\"Total Incentive in rupee distributed to General Manager, Area Manager, and Store Manager  =  {total_inctive}\")"
   ]
  },
  {
   "cell_type": "code",
   "execution_count": 203,
   "id": "9f888090",
   "metadata": {},
   "outputs": [],
   "source": [
    "# Percentage of revenue that was incentives\n",
    "\n",
    "incent_per_byRev = (total_inctive/Revenue)*100"
   ]
  },
  {
   "cell_type": "code",
   "execution_count": 204,
   "id": "220f5a30",
   "metadata": {},
   "outputs": [
    {
     "data": {
      "text/plain": [
       "1.576262909367104"
      ]
     },
     "execution_count": 204,
     "metadata": {},
     "output_type": "execute_result"
    }
   ],
   "source": [
    "incent_per_byRev"
   ]
  },
  {
   "cell_type": "code",
   "execution_count": 207,
   "id": "0238cf72",
   "metadata": {},
   "outputs": [
    {
     "name": "stdout",
     "output_type": "stream",
     "text": [
      "1.58 Percentage Amount of the Revenue is distributed to General Manager, Area Manager, and Store Manager for their Hard Work\n"
     ]
    }
   ],
   "source": [
    "print(f\"{round(incent_per_byRev, 2)} Percentage Amount of the Revenue is distributed to General Manager, Area Manager, and Store Manager for their Hard Work\")"
   ]
  },
  {
   "cell_type": "code",
   "execution_count": null,
   "id": "19ec7449",
   "metadata": {},
   "outputs": [],
   "source": []
  }
 ],
 "metadata": {
  "kernelspec": {
   "display_name": "Python 3 (ipykernel)",
   "language": "python",
   "name": "python3"
  },
  "language_info": {
   "codemirror_mode": {
    "name": "ipython",
    "version": 3
   },
   "file_extension": ".py",
   "mimetype": "text/x-python",
   "name": "python",
   "nbconvert_exporter": "python",
   "pygments_lexer": "ipython3",
   "version": "3.9.7"
  }
 },
 "nbformat": 4,
 "nbformat_minor": 5
}
